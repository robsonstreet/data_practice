{
 "cells": [
  {
   "cell_type": "markdown",
   "metadata": {},
   "source": [
    "<center>\n",
    "    <img src=\"https://cf-courses-data.s3.us.cloud-object-storage.appdomain.cloud/IBMDeveloperSkillsNetwork-DS0105EN-SkillsNetwork/labs/Module2/images/SN_web_lightmode.png\" width=\"300\" alt=\"cognitiveclass.ai logo\">\n",
    "</center>\n"
   ]
  },
  {
   "cell_type": "markdown",
   "metadata": {},
   "source": [
    "#### Add your code below following the instructions given in the course\n"
   ]
  },
  {
   "cell_type": "markdown",
   "metadata": {},
   "source": [
    "# Data Science Tools and Ecosystem\n",
    "### Objectives:\n",
    "1. Create a Jupyter Notebook\n",
    "2. Insert code and markdown cells\n",
    "3. Share your notebook through GitHub"
   ]
  },
  {
   "cell_type": "markdown",
   "metadata": {},
   "source": [
    "### Some of the popular languages that Data Scientist use are:\n",
    "- Python\n",
    "- R\n",
    "- SQL\n",
    "- Java\n",
    "- Julia\n",
    "- Scala\n",
    "- C/C++\n",
    "- JavaScript\n",
    "- Swift\n",
    "- Go\n",
    "- Matlab\n",
    "- Sas"
   ]
  },
  {
   "cell_type": "markdown",
   "metadata": {},
   "source": [
    "### Data Science Libraries\n",
    "- Numpy\n",
    "- Pandas\n",
    "- Scipy\n",
    "- Scikit-learn\n",
    "- Matplotlib\n",
    "- Seaborn\n",
    "- Tensor Flow\n",
    "- PyTorch\n",
    "- Keras\n",
    "- NLTK"
   ]
  },
  {
   "cell_type": "markdown",
   "metadata": {},
   "source": [
    "| Type | Data Science Tool|\n",
    "| - | -|\n",
    "| Cloud-based Tools|BigML, Google Analytics|\n",
    "| Multipurpose Tools| Apache, Spark, Matlab, SAS, KNIME, Apache, Flink|\n",
    "|Programming Language-driven Tools\t|Python,R Programming, Jupyter, Notebook, MongoDB, D3.js, Julia|\n",
    "| Visualization Tools\t| Tableau, Matplotlib, Minitab|\n",
    "| Machine Learning and NLP Tools| MS Excel|\n",
    "| Big Data Tools\t|Apache Hadoop|\n",
    "|Business Intelligence Tool\t| Microsoft Power BI, QlikView|\n"
   ]
  },
  {
   "cell_type": "markdown",
   "metadata": {},
   "source": [
    "### Examples of arithmetic expression in Python"
   ]
  },
  {
   "cell_type": "code",
   "execution_count": 5,
   "metadata": {},
   "outputs": [
    {
     "name": "stdout",
     "output_type": "stream",
     "text": [
      "5 + 5 = 10\n",
      "10 - 5 = 5\n",
      "7 * 5 = 35\n",
      "8 / 5 = 1.6\n",
      "2 ** 5 = 32\n",
      "sqrt(5) = 2.23606797749979\n",
      "abs(-5) = 5\n"
     ]
    }
   ],
   "source": [
    "# Addition\n",
    "b = 5\n",
    "result_add = 5 + b\n",
    "print(f\"5 + {b} =\", result_add)\n",
    "\n",
    "# Subtraction\n",
    "result_sub = 10 - b\n",
    "print(f\"10 - {b} =\", result_sub)\n",
    "\n",
    "# Multiplication\n",
    "result_mul = 7 * b\n",
    "print(f\"7 * {b} =\", result_mul)\n",
    "\n",
    "# Division\n",
    "result_div = 8 / b\n",
    "print(f\"8 / {b} =\", result_div)\n",
    "\n",
    "import math\n",
    "\n",
    "# Exponentiation\n",
    "result_exp = 2 ** b\n",
    "print(f\"2 ** {b} =\", result_exp)\n",
    "\n",
    "# Square root\n",
    "result_sqrt = math.sqrt(b)\n",
    "print(f\"sqrt({b}) =\", result_sqrt)\n",
    "\n",
    "# Absolute value\n",
    "result_abs = abs(-b)\n",
    "print(f\"abs(-{b}) =\", result_abs)"
   ]
  },
  {
   "cell_type": "code",
   "execution_count": null,
   "metadata": {},
   "outputs": [],
   "source": [
    "# This will convert 200 minutes to hours by diving by 60\n",
    "Thousand_minutes_to_hours = 200 / 60\n",
    "print (\"200 minutes are\", Thousand_minutes_to_hours , \"hours\")"
   ]
  },
  {
   "cell_type": "markdown",
   "metadata": {},
   "source": [
    "## Author\n",
    "### Luis Roberto Preciado Gonzalez"
   ]
  },
  {
   "cell_type": "code",
   "execution_count": null,
   "metadata": {},
   "outputs": [],
   "source": []
  }
 ],
 "metadata": {
  "kernelspec": {
   "display_name": "Python 3 (ipykernel)",
   "language": "python",
   "name": "python3"
  },
  "language_info": {
   "codemirror_mode": {
    "name": "ipython",
    "version": 3
   },
   "file_extension": ".py",
   "mimetype": "text/x-python",
   "name": "python",
   "nbconvert_exporter": "python",
   "pygments_lexer": "ipython3",
   "version": "3.12.8"
  }
 },
 "nbformat": 4,
 "nbformat_minor": 4
}
